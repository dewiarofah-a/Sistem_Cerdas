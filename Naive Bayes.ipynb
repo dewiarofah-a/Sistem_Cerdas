{
 "cells": [
  {
   "cell_type": "code",
   "execution_count": 9,
   "id": "c84f08fc",
   "metadata": {},
   "outputs": [],
   "source": [
    "import numpy as np\n",
    "import pandas as pd\n",
    "import matplotlib.pyplot as plt"
   ]
  },
  {
   "cell_type": "code",
   "execution_count": 12,
   "id": "78f66ffc",
   "metadata": {},
   "outputs": [],
   "source": [
    "data = pd.read_excel('F:\\SEMESTER 7\\Praktikum Sistem Cerdas\\latihan\\Shooping.xlsx')"
   ]
  },
  {
   "cell_type": "code",
   "execution_count": 13,
   "id": "5c312615",
   "metadata": {},
   "outputs": [
    {
     "data": {
      "text/html": [
       "<div>\n",
       "<style scoped>\n",
       "    .dataframe tbody tr th:only-of-type {\n",
       "        vertical-align: middle;\n",
       "    }\n",
       "\n",
       "    .dataframe tbody tr th {\n",
       "        vertical-align: top;\n",
       "    }\n",
       "\n",
       "    .dataframe thead th {\n",
       "        text-align: right;\n",
       "    }\n",
       "</style>\n",
       "<table border=\"1\" class=\"dataframe\">\n",
       "  <thead>\n",
       "    <tr style=\"text-align: right;\">\n",
       "      <th></th>\n",
       "      <th>Day</th>\n",
       "      <th>Discount</th>\n",
       "      <th>Free Delivery</th>\n",
       "      <th>Purchase</th>\n",
       "    </tr>\n",
       "  </thead>\n",
       "  <tbody>\n",
       "    <tr>\n",
       "      <th>0</th>\n",
       "      <td>Weekday</td>\n",
       "      <td>Yes</td>\n",
       "      <td>Yes</td>\n",
       "      <td>Yes</td>\n",
       "    </tr>\n",
       "    <tr>\n",
       "      <th>1</th>\n",
       "      <td>Weekday</td>\n",
       "      <td>Yes</td>\n",
       "      <td>Yes</td>\n",
       "      <td>Yes</td>\n",
       "    </tr>\n",
       "    <tr>\n",
       "      <th>2</th>\n",
       "      <td>Weekend</td>\n",
       "      <td>No</td>\n",
       "      <td>No</td>\n",
       "      <td>No</td>\n",
       "    </tr>\n",
       "    <tr>\n",
       "      <th>3</th>\n",
       "      <td>Holiday</td>\n",
       "      <td>Yes</td>\n",
       "      <td>Yes</td>\n",
       "      <td>Yes</td>\n",
       "    </tr>\n",
       "    <tr>\n",
       "      <th>4</th>\n",
       "      <td>Weekday</td>\n",
       "      <td>Yes</td>\n",
       "      <td>Yes</td>\n",
       "      <td>Yes</td>\n",
       "    </tr>\n",
       "  </tbody>\n",
       "</table>\n",
       "</div>"
      ],
      "text/plain": [
       "       Day Discount Free Delivery Purchase\n",
       "0  Weekday      Yes           Yes      Yes\n",
       "1  Weekday      Yes           Yes      Yes\n",
       "2  Weekend       No            No       No\n",
       "3  Holiday      Yes           Yes      Yes\n",
       "4  Weekday      Yes           Yes      Yes"
      ]
     },
     "execution_count": 13,
     "metadata": {},
     "output_type": "execute_result"
    }
   ],
   "source": [
    "data.head()"
   ]
  },
  {
   "cell_type": "code",
   "execution_count": 14,
   "id": "6989af85",
   "metadata": {},
   "outputs": [
    {
     "data": {
      "text/plain": [
       "(30, 4)"
      ]
     },
     "execution_count": 14,
     "metadata": {},
     "output_type": "execute_result"
    }
   ],
   "source": [
    "data.shape"
   ]
  },
  {
   "cell_type": "code",
   "execution_count": 15,
   "id": "829e3f2a",
   "metadata": {},
   "outputs": [
    {
     "data": {
      "text/plain": [
       "Yes    24\n",
       "No      6\n",
       "Name: Purchase, dtype: int64"
      ]
     },
     "execution_count": 15,
     "metadata": {},
     "output_type": "execute_result"
    }
   ],
   "source": [
    "data['Purchase'].value_counts()"
   ]
  },
  {
   "cell_type": "code",
   "execution_count": 16,
   "id": "38a85f61",
   "metadata": {},
   "outputs": [],
   "source": [
    "PYes = 24/30\n",
    "PNo = 6/30"
   ]
  },
  {
   "cell_type": "code",
   "execution_count": 17,
   "id": "a1856cd3",
   "metadata": {},
   "outputs": [
    {
     "name": "stdout",
     "output_type": "stream",
     "text": [
      "0.8\n"
     ]
    }
   ],
   "source": [
    "print(PYes)"
   ]
  },
  {
   "cell_type": "code",
   "execution_count": 18,
   "id": "95d6a7b9",
   "metadata": {},
   "outputs": [
    {
     "name": "stdout",
     "output_type": "stream",
     "text": [
      "0.2\n"
     ]
    }
   ],
   "source": [
    "print(PNo)"
   ]
  },
  {
   "cell_type": "code",
   "execution_count": 20,
   "id": "8bdf56a3",
   "metadata": {},
   "outputs": [
    {
     "data": {
      "text/html": [
       "<div>\n",
       "<style scoped>\n",
       "    .dataframe tbody tr th:only-of-type {\n",
       "        vertical-align: middle;\n",
       "    }\n",
       "\n",
       "    .dataframe tbody tr th {\n",
       "        vertical-align: top;\n",
       "    }\n",
       "\n",
       "    .dataframe thead th {\n",
       "        text-align: right;\n",
       "    }\n",
       "</style>\n",
       "<table border=\"1\" class=\"dataframe\">\n",
       "  <thead>\n",
       "    <tr style=\"text-align: right;\">\n",
       "      <th>Purchase</th>\n",
       "      <th>No</th>\n",
       "      <th>Yes</th>\n",
       "    </tr>\n",
       "    <tr>\n",
       "      <th>Day</th>\n",
       "      <th></th>\n",
       "      <th></th>\n",
       "    </tr>\n",
       "  </thead>\n",
       "  <tbody>\n",
       "    <tr>\n",
       "      <th>Holiday</th>\n",
       "      <td>3</td>\n",
       "      <td>8</td>\n",
       "    </tr>\n",
       "    <tr>\n",
       "      <th>Weekday</th>\n",
       "      <td>2</td>\n",
       "      <td>9</td>\n",
       "    </tr>\n",
       "    <tr>\n",
       "      <th>Weekend</th>\n",
       "      <td>1</td>\n",
       "      <td>7</td>\n",
       "    </tr>\n",
       "  </tbody>\n",
       "</table>\n",
       "</div>"
      ],
      "text/plain": [
       "Purchase  No  Yes\n",
       "Day              \n",
       "Holiday    3    8\n",
       "Weekday    2    9\n",
       "Weekend    1    7"
      ]
     },
     "execution_count": 20,
     "metadata": {},
     "output_type": "execute_result"
    }
   ],
   "source": [
    "pd.crosstab(data['Day'], data['Purchase'])"
   ]
  },
  {
   "cell_type": "code",
   "execution_count": 21,
   "id": "cd2a1986",
   "metadata": {},
   "outputs": [
    {
     "name": "stdout",
     "output_type": "stream",
     "text": [
      "0.375\n"
     ]
    }
   ],
   "source": [
    "PHolidayNo = 3/6\n",
    "PWeekdayNo = 2/6\n",
    "PWeekendNo = 1/6\n",
    "\n",
    "PHolidayYes = 8/24\n",
    "PWeekdayYes = 9/24\n",
    "PWeekendYes = 7/24\n",
    "\n",
    "PHoliday = 11/30\n",
    "PWeekday = 11/30\n",
    "PWeekend = 8/30\n",
    "\n",
    "print(PWeekdayYes)"
   ]
  },
  {
   "cell_type": "code",
   "execution_count": 22,
   "id": "ffb3e1d0",
   "metadata": {},
   "outputs": [],
   "source": [
    "# P(A|B) ?\n",
    "# P(B) = PWeekday\n",
    "# P(A) = No Buy\n",
    "# P(B|A) = PWeekday|No Buy"
   ]
  },
  {
   "cell_type": "code",
   "execution_count": 25,
   "id": "98e459d8",
   "metadata": {},
   "outputs": [
    {
     "name": "stdout",
     "output_type": "stream",
     "text": [
      "0.18181818181818182\n"
     ]
    }
   ],
   "source": [
    "PNoWeekday = (PWeekdayNo*PNo)/PWeekday\n",
    "print(PNoWeekday)"
   ]
  },
  {
   "cell_type": "code",
   "execution_count": 26,
   "id": "29f09c6f",
   "metadata": {},
   "outputs": [
    {
     "name": "stdout",
     "output_type": "stream",
     "text": [
      "0.8181818181818183\n"
     ]
    }
   ],
   "source": [
    "PYesWeekday = (PWeekdayYes*PYes)/PWeekday\n",
    "print(PYesWeekday)"
   ]
  },
  {
   "cell_type": "code",
   "execution_count": 27,
   "id": "8874c4fc",
   "metadata": {},
   "outputs": [
    {
     "name": "stdout",
     "output_type": "stream",
     "text": [
      "0.18181818181818182\n",
      "0.8181818181818183\n"
     ]
    }
   ],
   "source": [
    "# Probabilitas (Buy | Weekday) -> dibanding dengan probabilitas (No Buy| Weekday)\n",
    "print(PNoWeekday)\n",
    "print(PYesWeekday)"
   ]
  },
  {
   "cell_type": "code",
   "execution_count": 28,
   "id": "1ee40107",
   "metadata": {},
   "outputs": [],
   "source": [
    "# Kondisi B dimana\n",
    "# Day = Holoday\n",
    "# Discount = Yes\n",
    "# Free Delivery = Yes\n",
    "# A = Buy\n",
    "# P(A|B) = P(Buy|DiscountYes, Fre DeliveryYes, PDayHoliday)"
   ]
  },
  {
   "cell_type": "code",
   "execution_count": 29,
   "id": "15c7aa94",
   "metadata": {},
   "outputs": [
    {
     "data": {
      "text/html": [
       "<div>\n",
       "<style scoped>\n",
       "    .dataframe tbody tr th:only-of-type {\n",
       "        vertical-align: middle;\n",
       "    }\n",
       "\n",
       "    .dataframe tbody tr th {\n",
       "        vertical-align: top;\n",
       "    }\n",
       "\n",
       "    .dataframe thead th {\n",
       "        text-align: right;\n",
       "    }\n",
       "</style>\n",
       "<table border=\"1\" class=\"dataframe\">\n",
       "  <thead>\n",
       "    <tr style=\"text-align: right;\">\n",
       "      <th>Purchase</th>\n",
       "      <th>No</th>\n",
       "      <th>Yes</th>\n",
       "    </tr>\n",
       "    <tr>\n",
       "      <th>Discount</th>\n",
       "      <th></th>\n",
       "      <th></th>\n",
       "    </tr>\n",
       "  </thead>\n",
       "  <tbody>\n",
       "    <tr>\n",
       "      <th>No</th>\n",
       "      <td>5</td>\n",
       "      <td>5</td>\n",
       "    </tr>\n",
       "    <tr>\n",
       "      <th>Yes</th>\n",
       "      <td>1</td>\n",
       "      <td>19</td>\n",
       "    </tr>\n",
       "  </tbody>\n",
       "</table>\n",
       "</div>"
      ],
      "text/plain": [
       "Purchase  No  Yes\n",
       "Discount         \n",
       "No         5    5\n",
       "Yes        1   19"
      ]
     },
     "execution_count": 29,
     "metadata": {},
     "output_type": "execute_result"
    }
   ],
   "source": [
    "pd.crosstab(data['Discount'], data['Purchase'])"
   ]
  },
  {
   "cell_type": "code",
   "execution_count": 30,
   "id": "9a609a7e",
   "metadata": {},
   "outputs": [],
   "source": [
    "PNoDiscountNo = 5/6\n",
    "PYesDiscountNo = 1/6\n",
    "\n",
    "PNoDiscountYes = 5/24\n",
    "PYesDiscountYes = 19/24\n",
    "\n",
    "PNoDiscount = 10/30\n",
    "PYesDiscount= 20/30\n"
   ]
  },
  {
   "cell_type": "code",
   "execution_count": 31,
   "id": "55bef9a8",
   "metadata": {},
   "outputs": [
    {
     "data": {
      "text/html": [
       "<div>\n",
       "<style scoped>\n",
       "    .dataframe tbody tr th:only-of-type {\n",
       "        vertical-align: middle;\n",
       "    }\n",
       "\n",
       "    .dataframe tbody tr th {\n",
       "        vertical-align: top;\n",
       "    }\n",
       "\n",
       "    .dataframe thead th {\n",
       "        text-align: right;\n",
       "    }\n",
       "</style>\n",
       "<table border=\"1\" class=\"dataframe\">\n",
       "  <thead>\n",
       "    <tr style=\"text-align: right;\">\n",
       "      <th>Purchase</th>\n",
       "      <th>No</th>\n",
       "      <th>Yes</th>\n",
       "    </tr>\n",
       "    <tr>\n",
       "      <th>Free Delivery</th>\n",
       "      <th></th>\n",
       "      <th></th>\n",
       "    </tr>\n",
       "  </thead>\n",
       "  <tbody>\n",
       "    <tr>\n",
       "      <th>No</th>\n",
       "      <td>4</td>\n",
       "      <td>3</td>\n",
       "    </tr>\n",
       "    <tr>\n",
       "      <th>Yes</th>\n",
       "      <td>2</td>\n",
       "      <td>21</td>\n",
       "    </tr>\n",
       "  </tbody>\n",
       "</table>\n",
       "</div>"
      ],
      "text/plain": [
       "Purchase       No  Yes\n",
       "Free Delivery         \n",
       "No              4    3\n",
       "Yes             2   21"
      ]
     },
     "execution_count": 31,
     "metadata": {},
     "output_type": "execute_result"
    }
   ],
   "source": [
    "pd.crosstab(data['Free Delivery'], data['Purchase'])"
   ]
  },
  {
   "cell_type": "code",
   "execution_count": 32,
   "id": "6e0ddce4",
   "metadata": {},
   "outputs": [],
   "source": [
    "PNoDeliveryNo = 4/6\n",
    "PYesDeliveryNo = 2/6\n",
    "\n",
    "PNoDeliveryYes = 3/24\n",
    "PYesDeliveryYes = 21/24\n",
    "\n",
    "PNoDelivery = 7/30\n",
    "PYesDelivery= 23/30"
   ]
  },
  {
   "cell_type": "code",
   "execution_count": 34,
   "id": "b278de04",
   "metadata": {},
   "outputs": [],
   "source": [
    "# Kondisi B dimana\n",
    "# Day = Holiday\n",
    "# Discount = Yes\n",
    "# Free Delivery = Yes\n",
    "# P(A) = No Buy = PNo\n",
    "# P(B) = PYesDiscount, PYesDelivery, PHoliday\n",
    "# P(B|A)1 = (PWeekday|No Buy) = PHolidayNo\n",
    "# P(B|A)2 = (PYesDiscount|No Buy) = PYesDiscountNo\n",
    "# P(B|A)1 = (PYesDelivery|No Buy) = PYesDeliveryNo\n",
    "# P(B) = PWeekday\n",
    "# P(B) = PYesDiscount\n",
    "# P(B) = PYesDelivery\n",
    "\n",
    "#ditanyakan P(A|B) ?\n",
    "#Rumus -> P(A|B) = P(B|A)*P(A)/P(B)"
   ]
  },
  {
   "cell_type": "code",
   "execution_count": 35,
   "id": "9dd92fa0",
   "metadata": {},
   "outputs": [
    {
     "name": "stdout",
     "output_type": "stream",
     "text": [
      "0.029644268774703563\n"
     ]
    }
   ],
   "source": [
    "PNoBuy1 = ((PHolidayNo*PYesDiscountNo*PYesDeliveryNo)*PNo)/(PHoliday*PYesDiscount*PYesDelivery)\n",
    "print(PNoBuy1)"
   ]
  },
  {
   "cell_type": "code",
   "execution_count": 36,
   "id": "d607003d",
   "metadata": {},
   "outputs": [],
   "source": [
    "# Kondisi B dimana\n",
    "# Day = Holiday\n",
    "# Discount = Yes\n",
    "# Free Delivery = Yes\n",
    "# P(A) = Buy = PYes\n",
    "# P(B) = PYesDiscount, PYesDelivery, PHoliday\n",
    "# P(B|A)1 = (PWeekday|Buy) = PHolidayYes\n",
    "# P(B|A)2 = (PYesDiscount|Buy) = PYesDiscountYes\n",
    "# P(B|A)1 = (PYesDelivery|Buy) = PYesDeliveryYes\n",
    "# P(B) = PWeekday\n",
    "# P(B) = PYesDiscount\n",
    "# P(B) = PYesDelivery\n",
    "\n",
    "#ditanyakan P(A|B) ?\n",
    "#Rumus -> P(A|B) = P(B|A)*P(A)/P(B)"
   ]
  },
  {
   "cell_type": "code",
   "execution_count": 39,
   "id": "efa628db",
   "metadata": {},
   "outputs": [
    {
     "name": "stdout",
     "output_type": "stream",
     "text": [
      "0.9856719367588933\n"
     ]
    }
   ],
   "source": [
    "PBuy2 = ((PHolidayYes*PYesDiscountYes*PYesDeliveryYes)*PYes)/(PHoliday*PYesDiscount*PYesDelivery)\n",
    "print(PBuy2)"
   ]
  },
  {
   "cell_type": "code",
   "execution_count": 40,
   "id": "0066213d",
   "metadata": {},
   "outputs": [],
   "source": [
    "# probabilitas dari NoPurchase = 0.029644268774703563\n",
    "# probabilitas dari Purchase = 0.9856719367588933"
   ]
  },
  {
   "cell_type": "code",
   "execution_count": 42,
   "id": "ca5837d2",
   "metadata": {},
   "outputs": [
    {
     "name": "stdout",
     "output_type": "stream",
     "text": [
      "1.015316205533597\n"
     ]
    }
   ],
   "source": [
    "PSum = PNoBuy1+PBuy2 \n",
    "print(PSum)"
   ]
  },
  {
   "cell_type": "code",
   "execution_count": 43,
   "id": "f8cad703",
   "metadata": {},
   "outputs": [
    {
     "name": "stdout",
     "output_type": "stream",
     "text": [
      "97.08029197080292\n"
     ]
    }
   ],
   "source": [
    "PBuy = (PBuy2/PSum)*100\n",
    "print(PBuy)"
   ]
  },
  {
   "cell_type": "code",
   "execution_count": 45,
   "id": "d52721cc",
   "metadata": {},
   "outputs": [
    {
     "name": "stdout",
     "output_type": "stream",
     "text": [
      "3.009830648815011\n"
     ]
    }
   ],
   "source": [
    "PNoBuy = (PNoBuy1*PSum)*100\n",
    "print(PNoBuy)"
   ]
  },
  {
   "cell_type": "code",
   "execution_count": 46,
   "id": "8374f177",
   "metadata": {},
   "outputs": [],
   "source": [
    "#Coba Tugas"
   ]
  },
  {
   "cell_type": "code",
   "execution_count": 56,
   "id": "f63bfe8f",
   "metadata": {},
   "outputs": [
    {
     "name": "stdout",
     "output_type": "stream",
     "text": [
      "1.108880928853755\n"
     ]
    }
   ],
   "source": [
    "#Soal 2a\n",
    "\n",
    "#P(A)  = PYes\n",
    "#P(B)  = PWeekdayYes, PYesDeliveryYes, PYesDiscountYes\n",
    "#P(B)1 = PWeekday\n",
    "#P(B)2 = PYesDelivery\n",
    "#P(B)3 = PYesDiscount\n",
    "\n",
    "#Ditanya P(A|B) ?\n",
    "#Rumus\n",
    "# P(A|B) = P(B|A)*P(A)/P(B)\n",
    "\n",
    "#Jawaban :\n",
    "\n",
    "PYesBuyA = ((PWeekdayYes*PYesDeliveryYes*PYesDiscountYes)*PYes)/(PWeekday*PYesDiscount*PYesDelivery)\n",
    "print(PYesBuyA)"
   ]
  },
  {
   "cell_type": "code",
   "execution_count": 58,
   "id": "b9c16c3d",
   "metadata": {},
   "outputs": [
    {
     "name": "stdout",
     "output_type": "stream",
     "text": [
      "0.27394480519480524\n"
     ]
    }
   ],
   "source": [
    "#Soal 2b\n",
    "\n",
    "#P(A)  = PYes\n",
    "#P(B)  = PWeekdayYes, PNoDeliveryYes, PNoDiscountYes\n",
    "#P(B)1 = PWeekday\n",
    "#P(B)2 = PNoDelivery\n",
    "#P(B)3 = PNoDiscount\n",
    "\n",
    "#Ditanya P(A|B) ?\n",
    "#Rumus\n",
    "# P(A|B) = P(B|A)*P(A)/P(B)\n",
    "\n",
    "#Jawaban :\n",
    "\n",
    "PYesBuyB = ((PWeekdayYes*PNoDeliveryYes*PNoDiscountYes)*PYes)/(PWeekday*PNoDiscount*PNoDelivery)\n",
    "print(PYesBuyB)"
   ]
  },
  {
   "cell_type": "code",
   "execution_count": 59,
   "id": "2a99d120",
   "metadata": {},
   "outputs": [
    {
     "name": "stdout",
     "output_type": "stream",
     "text": [
      "0.019762845849802375\n"
     ]
    }
   ],
   "source": [
    "#Soal 2c\n",
    "\n",
    "#P(A)  = PNo\n",
    "#P(B)  = PWeekdayNo, PYesDeliveryNo, PYesDiscountNo\n",
    "#P(B)1 = PWeekday\n",
    "#P(B)2 = PNoDelivery\n",
    "#P(B)3 = PNoDiscount\n",
    "\n",
    "#Ditanya P(A|B) ?\n",
    "#Rumus\n",
    "# P(A|B) = P(B|A)*P(A)/P(B)\n",
    "\n",
    "#Jawaban :\n",
    "\n",
    "PNoBuyC = ((PWeekdayNo*PYesDeliveryNo*PYesDiscountNo)*PNo)/(PWeekday*PYesDiscount*PYesDelivery)\n",
    "print(PNoBuyC)"
   ]
  },
  {
   "cell_type": "code",
   "execution_count": 60,
   "id": "2272aa26",
   "metadata": {},
   "outputs": [
    {
     "name": "stdout",
     "output_type": "stream",
     "text": [
      "1.2987012987012987\n"
     ]
    }
   ],
   "source": [
    "#Soal 2d\n",
    "\n",
    "#P(A)  = PNo\n",
    "#P(B)  = PWeekdayNo, PNoDeliveryNo, PNoDiscountNo\n",
    "#P(B)1 = PWeekday\n",
    "#P(B)2 = PNoDelivery\n",
    "#P(B)3 = PNoDiscount\n",
    "\n",
    "#Ditanya P(A|B) ?\n",
    "#Rumus\n",
    "# P(A|B) = P(B|A)*P(A)/P(B)\n",
    "\n",
    "#Jawaban :\n",
    "\n",
    "PNoBuyD = ((PWeekdayNo*PNoDeliveryNo*PNoDiscountNo)*PNo)/(PWeekday*PNoDiscount*PNoDelivery)\n",
    "print(PNoBuyD)"
   ]
  },
  {
   "cell_type": "code",
   "execution_count": 62,
   "id": "bbf55a89",
   "metadata": {},
   "outputs": [
    {
     "name": "stdout",
     "output_type": "stream",
     "text": [
      "1.185886548913044\n"
     ]
    }
   ],
   "source": [
    "#Soal 2e\n",
    "\n",
    "#P(A)  = PYes\n",
    "#P(B)  = PWeekendYes, PYesDeliveryYes, PYesDiscountYes\n",
    "#P(B)1 = PWeekend\n",
    "#P(B)2 = PYesDelivery\n",
    "#P(B)3 = PYesDiscount\n",
    "\n",
    "#Ditanya P(A|B) ?\n",
    "#Rumus\n",
    "# P(A|B) = P(B|A)*P(A)/P(B)\n",
    "\n",
    "#Jawaban :\n",
    "\n",
    "PYesBuyE = ((PWeekendYes*PYesDeliveryYes*PYesDiscountYes)*PYes)/(PWeekend*PYesDiscount*PYesDelivery)\n",
    "print(PYesBuyE)"
   ]
  },
  {
   "cell_type": "code",
   "execution_count": 63,
   "id": "3d40b634",
   "metadata": {},
   "outputs": [
    {
     "name": "stdout",
     "output_type": "stream",
     "text": [
      "0.29296875000000006\n"
     ]
    }
   ],
   "source": [
    "#Soal 2f\n",
    "\n",
    "#P(A)  = PYes\n",
    "#P(B)  = PWeekendYes, PNoDeliveryYes, PNoDiscountYes\n",
    "#P(B)1 = PWeekend\n",
    "#P(B)2 = PNoDelivery\n",
    "#P(B)3 = PNoDiscount\n",
    "\n",
    "#Ditanya P(A|B) ?\n",
    "#Rumus\n",
    "# P(A|B) = P(B|A)*P(A)/P(B)\n",
    "\n",
    "#Jawaban :\n",
    "\n",
    "PYesBuyF = ((PWeekendYes*PNoDeliveryYes*PNoDiscountYes)*PYes)/(PWeekend*PNoDiscount*PNoDelivery)\n",
    "print(PYesBuyF)"
   ]
  },
  {
   "cell_type": "code",
   "execution_count": 64,
   "id": "6811f5c9",
   "metadata": {},
   "outputs": [
    {
     "name": "stdout",
     "output_type": "stream",
     "text": [
      "0.013586956521739134\n"
     ]
    }
   ],
   "source": [
    "#Soal 2g\n",
    "\n",
    "#P(A)  = PNo\n",
    "#P(B)  = PWeekendNo, PYesDeliveryNo, PYesDiscountNo\n",
    "#P(B)1 = PWeekend\n",
    "#P(B)2 = PNoDelivery\n",
    "#P(B)3 = PNoDiscount\n",
    "\n",
    "#Ditanya P(A|B) ?\n",
    "#Rumus\n",
    "# P(A|B) = P(B|A)*P(A)/P(B)\n",
    "\n",
    "#Jawaban :\n",
    "\n",
    "PNoBuyG = ((PWeekendNo*PYesDeliveryNo*PYesDiscountNo)*PNo)/(PWeekend*PYesDiscount*PYesDelivery)\n",
    "print(PNoBuyG)"
   ]
  },
  {
   "cell_type": "code",
   "execution_count": 67,
   "id": "b81a742b",
   "metadata": {},
   "outputs": [
    {
     "name": "stdout",
     "output_type": "stream",
     "text": [
      "0.8928571428571428\n"
     ]
    }
   ],
   "source": [
    "#Soal 2h\n",
    "\n",
    "#P(A)  = PNo\n",
    "#P(B)  = PWeekendNo, PNoDeliveryNo, PNoDiscountNo\n",
    "#P(B)1 = PWeekend\n",
    "#P(B)2 = PNoDelivery\n",
    "#P(B)3 = PNoDiscount\n",
    "\n",
    "#Ditanya P(A|B) ?\n",
    "#Rumus\n",
    "# P(A|B) = P(B|A)*P(A)/P(B)\n",
    "\n",
    "#Jawaban :\n",
    "\n",
    "PNoBuyH = ((PWeekendNo*PNoDeliveryNo*PNoDiscountNo)*PNo)/(PWeekend*PNoDiscount*PNoDelivery)\n",
    "print(PNoBuyH)"
   ]
  },
  {
   "cell_type": "code",
   "execution_count": 72,
   "id": "cf6eab14",
   "metadata": {},
   "outputs": [
    {
     "name": "stdout",
     "output_type": "stream",
     "text": [
      "1.1286437747035576\n",
      "98.24897400820792\n",
      "1.7510259917920656\n"
     ]
    }
   ],
   "source": [
    "# (PYesBuyA) Probablity of  purchase = 1.108880928853755\n",
    "#  (PNoBuyC) Probablity of No purchase = 0.019762845849802375\n",
    "\n",
    "\n",
    "PSum1 = PYesBuyA + PNoBuyC\n",
    "print (PSum1)\n",
    "\n",
    "\n",
    "PBuyYesA = (PYesBuyA/PSum1)*100\n",
    "print (P2A)\n",
    "\n",
    "PBuyNoC= (PNoBuyC/PSum1)*100\n",
    "print (P2C)"
   ]
  },
  {
   "cell_type": "code",
   "execution_count": 75,
   "id": "b42cc222",
   "metadata": {},
   "outputs": [
    {
     "name": "stdout",
     "output_type": "stream",
     "text": [
      "1.572646103896104\n",
      "17.41935483870968\n",
      "82.58064516129032\n"
     ]
    }
   ],
   "source": [
    "# (PYesBuyB) Probablity of  purchase = 0.27394480519480524\n",
    "#  (PNoBuyD) Probablity of No purchase = 1.2987012987012987\n",
    "\n",
    "\n",
    "PSum2 = PYesBuyB + PNoBuyD\n",
    "print (PSum2)\n",
    "\n",
    "\n",
    "PBuyYesB = (PYesBuyB/PSum2)*100\n",
    "print (PBuyYesB)\n",
    "\n",
    "PBuyNoD = (PNoBuyD/PSum2)*100\n",
    "print (PBuyNoD)"
   ]
  },
  {
   "cell_type": "code",
   "execution_count": 76,
   "id": "ae98a221",
   "metadata": {},
   "outputs": [
    {
     "name": "stdout",
     "output_type": "stream",
     "text": [
      "1.199473505434783\n",
      "98.86725663716815\n",
      "1.1327433628318584\n"
     ]
    }
   ],
   "source": [
    "# (PYesBuyE) Probablity of  purchase = 1.185886548913044\n",
    "#  (PNoBuyG) Probablity of No purchase = 0.013586956521739134 \n",
    "\n",
    "\n",
    "PSum3 = PYesBuyE + PNoBuyG\n",
    "print (PSum3)\n",
    "\n",
    "\n",
    "PBuyYesE = (PYesBuyE/PSum3)*100\n",
    "print (PBuyYesE)\n",
    "\n",
    "PBuyNoG = (PNoBuyG/PSum3)*100\n",
    "print (PBuyNoG)"
   ]
  },
  {
   "cell_type": "code",
   "execution_count": 81,
   "id": "2826855a",
   "metadata": {},
   "outputs": [
    {
     "name": "stdout",
     "output_type": "stream",
     "text": [
      "1.1858258928571428\n",
      "24.705882352941185\n",
      "75.29411764705883\n"
     ]
    }
   ],
   "source": [
    "# (PYesBuyF) Probablity of  purchase = 0.29296875000000006\n",
    "#  (PNoBuyH) Probablity of No purchase = 0.8928571428571428\n",
    "\n",
    "\n",
    "PSum4 = PYesBuyF + PNoBuyH\n",
    "print (PSum4)\n",
    "\n",
    "\n",
    "PBuyYesF = (PYesBuyF/PSum4)*100\n",
    "print (PBuyYesF)\n",
    "\n",
    "PBuyNoH = (PNoBuyH/PSum4)*100\n",
    "print (PBuyNoH)"
   ]
  },
  {
   "cell_type": "code",
   "execution_count": null,
   "id": "fda403c0",
   "metadata": {},
   "outputs": [],
   "source": []
  },
  {
   "cell_type": "code",
   "execution_count": null,
   "id": "59419898",
   "metadata": {},
   "outputs": [],
   "source": []
  }
 ],
 "metadata": {
  "kernelspec": {
   "display_name": "Python 3",
   "language": "python",
   "name": "python3"
  },
  "language_info": {
   "codemirror_mode": {
    "name": "ipython",
    "version": 3
   },
   "file_extension": ".py",
   "mimetype": "text/x-python",
   "name": "python",
   "nbconvert_exporter": "python",
   "pygments_lexer": "ipython3",
   "version": "3.8.8"
  }
 },
 "nbformat": 4,
 "nbformat_minor": 5
}
